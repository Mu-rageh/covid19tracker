{
 "cells": [
  {
   "cell_type": "code",
   "execution_count": null,
   "id": "7ed96ac2",
   "metadata": {},
   "outputs": [],
   "source": [
    "import pandas as pd\n",
    "\n",
    "# Load the CSV file into a DataFrame\n",
    "data_path = 'owid-covid-data.csv'\n",
    "df = pd.read_csv(data_path)\n",
    "\n",
    "# Display the first 5 rows\n",
    "print(df.head())\n",
    "\n",
    "# Display the columns and their data types\n",
    "print(df.info())\n",
    "\n",
    "# Get descriptive statistics for numerical columns\n",
    "print(\"\\nDescriptive Statistics for Numerical Columns:\")\n",
    "print(df.describe())\n",
    "\n",
    "# Check for missing values\n",
    "print(\"\\nMissing Values:\")\n",
    "print(df.isnull().sum())\n",
    "\n",
    "# Get unique values for categorical columns\n",
    "categorical_cols = ['iso_code', 'continent', 'location']\n",
    "for col in categorical_cols:\n",
    "    if col in df.columns:\n",
    "        print(f\"\\nUnique values for column '{col}':\")\n",
    "        print(df[col].unique())\n",
    "    else:\n",
    "        print(f\"\\nColumn '{col}' not found in DataFrame.\")\n"
   ]
  }
 ],
 "metadata": {
  "language_info": {
   "name": "python"
  }
 },
 "nbformat": 4,
 "nbformat_minor": 5
}
